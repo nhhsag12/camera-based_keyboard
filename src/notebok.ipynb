{
 "cells": [
  {
   "metadata": {
    "ExecuteTime": {
     "end_time": "2025-06-26T02:11:54.894454Z",
     "start_time": "2025-06-26T02:11:54.880450Z"
    }
   },
   "cell_type": "code",
   "source": [
    "text = \"hoang\"\n",
    "text[:-1]"
   ],
   "id": "5500fd2296635c00",
   "outputs": [
    {
     "data": {
      "text/plain": [
       "'hoan'"
      ]
     },
     "execution_count": 1,
     "metadata": {},
     "output_type": "execute_result"
    }
   ],
   "execution_count": 1
  }
 ],
 "metadata": {},
 "nbformat": 4,
 "nbformat_minor": 5
}
